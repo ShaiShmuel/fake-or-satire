{
  "cells": [
    {
      "cell_type": "code",
      "execution_count": 1,
      "metadata": {
        "colab": {
          "base_uri": "https://localhost:8080/"
        },
        "id": "q-YbjCkzw0yU",
        "outputId": "aa523290-ffa0-4341-e76c-1215381adf7b"
      },
      "outputs": [
        {
          "name": "stdout",
          "output_type": "stream",
          "text": [
            "\u001b[K     |████████████████████████████████| 4.9 MB 14.2 MB/s \n",
            "\u001b[K     |████████████████████████████████| 498.0 MB 12 kB/s \n",
            "\u001b[K     |████████████████████████████████| 1.4 MB 56.6 MB/s \n",
            "\u001b[K     |████████████████████████████████| 462 kB 60.6 MB/s \n",
            "\u001b[K     |████████████████████████████████| 5.8 MB 60.4 MB/s \n",
            "\u001b[?25h"
          ]
        }
      ],
      "source": [
        "# A dependency of the preprocessing for BERT inputs\n",
        "!pip install -q -U \"tensorflow-text==2.8.*\""
      ]
    },
    {
      "cell_type": "code",
      "execution_count": 2,
      "metadata": {
        "colab": {
          "base_uri": "https://localhost:8080/"
        },
        "id": "b-P1ZOA0FkVJ",
        "outputId": "098af810-9f41-4765-ac30-47f73e50ed82"
      },
      "outputs": [
        {
          "name": "stdout",
          "output_type": "stream",
          "text": [
            "\u001b[K     |████████████████████████████████| 1.8 MB 13.7 MB/s \n",
            "\u001b[K     |████████████████████████████████| 352 kB 58.0 MB/s \n",
            "\u001b[K     |████████████████████████████████| 1.3 MB 56.8 MB/s \n",
            "\u001b[K     |████████████████████████████████| 238 kB 81.1 MB/s \n",
            "\u001b[K     |████████████████████████████████| 1.1 MB 73.1 MB/s \n",
            "\u001b[K     |████████████████████████████████| 118 kB 76.3 MB/s \n",
            "\u001b[K     |████████████████████████████████| 43 kB 2.1 MB/s \n",
            "\u001b[?25h  Building wheel for seqeval (setup.py) ... \u001b[?25l\u001b[?25hdone\n"
          ]
        }
      ],
      "source": [
        "!pip install -q tf-models-official==2.7.0"
      ]
    },
    {
      "cell_type": "code",
      "execution_count": 3,
      "metadata": {
        "colab": {
          "base_uri": "https://localhost:8080/"
        },
        "id": "j0oO5yMYjwjy",
        "outputId": "2a72dbcf-fd6a-49be-fbb6-4e1d5a993d6c"
      },
      "outputs": [
        {
          "name": "stderr",
          "output_type": "stream",
          "text": [
            "/usr/local/lib/python3.8/dist-packages/tensorflow_addons/utils/ensure_tf_install.py:53: UserWarning: Tensorflow Addons supports using Python ops for all Tensorflow versions above or equal to 2.9.0 and strictly below 2.12.0 (nightly versions are not supported). \n",
            " The versions of TensorFlow you are currently using is 2.8.4 and is not supported. \n",
            "Some things might work, some things might not.\n",
            "If you were to encounter a bug, do not file an issue.\n",
            "If you want to make sure you're using a tested and supported configuration, either change the TensorFlow version or the TensorFlow Addons's version. \n",
            "You can find the compatibility matrix in TensorFlow Addon's readme:\n",
            "https://github.com/tensorflow/addons\n",
            "  warnings.warn(\n",
            "[nltk_data] Downloading package stopwords to /root/nltk_data...\n",
            "[nltk_data]   Unzipping corpora/stopwords.zip.\n"
          ]
        }
      ],
      "source": [
        "import os\n",
        "import zipfile\n",
        "import random\n",
        "import shutil\n",
        "import tensorflow as tf\n",
        "import tensorflow_hub as hub\n",
        "import tensorflow_text as text\n",
        "import string\n",
        "import numpy as np\n",
        "import nltk\n",
        "import re\n",
        "from official.nlp import optimization \n",
        "\n",
        "nltk.download('stopwords')\n",
        "stopwords = nltk.corpus.stopwords.words('english')\n",
        "from shutil import copyfile\n",
        "import matplotlib.pyplot as plt\n"
      ]
    },
    {
      "cell_type": "code",
      "execution_count": 4,
      "metadata": {
        "id": "yaSl6MWVmdE_"
      },
      "outputs": [],
      "source": [
        "tf.get_logger().setLevel('ERROR')"
      ]
    },
    {
      "cell_type": "code",
      "execution_count": 5,
      "metadata": {
        "colab": {
          "base_uri": "https://localhost:8080/"
        },
        "id": "Ytwyltjfjba9",
        "outputId": "c242a0dc-7172-4548-b8f7-2bb3167f218b"
      },
      "outputs": [
        {
          "name": "stdout",
          "output_type": "stream",
          "text": [
            "--2022-12-20 07:33:53--  https://github.com/jgolbeck/fakenews/blob/master/FakeNewsData.zip?raw=true\n",
            "Resolving github.com (github.com)... 140.82.121.3\n",
            "Connecting to github.com (github.com)|140.82.121.3|:443... connected.\n",
            "HTTP request sent, awaiting response... 302 Found\n",
            "Location: https://github.com/jgolbeck/fakenews/raw/master/FakeNewsData.zip [following]\n",
            "--2022-12-20 07:33:54--  https://github.com/jgolbeck/fakenews/raw/master/FakeNewsData.zip\n",
            "Reusing existing connection to github.com:443.\n",
            "HTTP request sent, awaiting response... 302 Found\n",
            "Location: https://raw.githubusercontent.com/jgolbeck/fakenews/master/FakeNewsData.zip [following]\n",
            "--2022-12-20 07:33:54--  https://raw.githubusercontent.com/jgolbeck/fakenews/master/FakeNewsData.zip\n",
            "Resolving raw.githubusercontent.com (raw.githubusercontent.com)... 185.199.111.133, 185.199.109.133, 185.199.108.133, ...\n",
            "Connecting to raw.githubusercontent.com (raw.githubusercontent.com)|185.199.111.133|:443... connected.\n",
            "HTTP request sent, awaiting response... 200 OK\n",
            "Length: 3002233 (2.9M) [application/zip]\n",
            "Saving to: ‘/tmp/FakeNewsData.zip’\n",
            "\n",
            "/tmp/FakeNewsData.z 100%[===================>]   2.86M  --.-KB/s    in 0.02s   \n",
            "\n",
            "2022-12-20 07:33:55 (119 MB/s) - ‘/tmp/FakeNewsData.zip’ saved [3002233/3002233]\n",
            "\n"
          ]
        }
      ],
      "source": [
        "!wget --no-check-certificate \\\n",
        "    \"https://github.com/jgolbeck/fakenews/blob/master/FakeNewsData.zip?raw=true\" \\\n",
        "    -O \"/tmp/FakeNewsData.zip\"\n",
        "\n",
        "local_zip = '/tmp/FakeNewsData.zip'\n",
        "zip_ref   = zipfile.ZipFile(local_zip, 'r')\n",
        "zip_ref.extractall('/tmp')\n",
        "zip_ref.close()"
      ]
    },
    {
      "cell_type": "markdown",
      "metadata": {
        "id": "G7pugj8vlGTR"
      },
      "source": [
        "Now the images are stored within the `/tmp/FakeNewsData` directory. There is a subdirectory for each class, so one for fake and one for satire."
      ]
    },
    {
      "cell_type": "code",
      "execution_count": 6,
      "metadata": {
        "colab": {
          "base_uri": "https://localhost:8080/"
        },
        "id": "9BVAvKLtk3fE",
        "outputId": "9d34b9e5-ffd7-4b01-ebb7-4d62a984a073"
      },
      "outputs": [
        {
          "name": "stdout",
          "output_type": "stream",
          "text": [
            "There are 284 texts of fake.\n",
            "There are 204 texts of satire.\n"
          ]
        }
      ],
      "source": [
        "source_path = '/tmp/FakeNewsData/StoryText 2'\n",
        "\n",
        "source_path_fake = os.path.join(source_path, 'Fake/finalFake')\n",
        "source_path_satire = os.path.join(source_path, 'Satire/finalSatire')\n",
        "\n",
        "\n",
        "# os.listdir returns a list containing all files under the given path\n",
        "print(f\"There are {len(os.listdir(source_path_fake))} texts of fake.\")\n",
        "print(f\"There are {len(os.listdir(source_path_satire))} texts of satire.\")"
      ]
    },
    {
      "cell_type": "code",
      "execution_count": 7,
      "metadata": {
        "id": "GlUcTtuEnIQ7"
      },
      "outputs": [],
      "source": [
        "# Defining root directory\n",
        "root_dir = '/tmp/fkae-or-satire'\n",
        "\n",
        "# Empty directory to prevent FileExistsError is the function is run several times\n",
        "if os.path.exists(root_dir):\n",
        "  shutil.rmtree(root_dir)\n",
        "\n",
        "# Create_train_test_dirs\n",
        "def create_train_test_dirs(root_path):\n",
        "\n",
        "  train_dir = os.path.join(root_path, 'training')\n",
        "  test_dir = os.path.join(root_path, 'testing')\n",
        "  os.makedirs(train_dir)\n",
        "  os.makedirs(test_dir)\n",
        "\n",
        "  # Directory with training cat/dog pictures\n",
        "  train_fake_dir = os.path.join(train_dir, 'fake')\n",
        "  train_satire_dir = os.path.join(train_dir, 'satire')\n",
        "  os.makedirs(train_fake_dir)\n",
        "  os.makedirs(train_satire_dir)\n",
        "\n",
        "  # Directory with test cat/dog pictures\n",
        "  test_fake_dir = os.path.join(test_dir, 'fake')\n",
        "  test_satire_dir = os.path.join(test_dir, 'satire')\n",
        "  os.makedirs(test_fake_dir)\n",
        "  os.makedirs(test_satire_dir)\n",
        "\n",
        "  pass\n",
        "  \n",
        "try:\n",
        "  create_train_test_dirs(root_path=root_dir)\n",
        "except FileExistsError:\n",
        "  print(\"You should not be seeing this since the upper directory is removed beforehand\")"
      ]
    },
    {
      "cell_type": "code",
      "execution_count": 8,
      "metadata": {
        "colab": {
          "base_uri": "https://localhost:8080/"
        },
        "id": "tIGrrYb3n52n",
        "outputId": "f2f46b19-f85a-44a5-868a-de991652c80b"
      },
      "outputs": [
        {
          "name": "stdout",
          "output_type": "stream",
          "text": [
            "/tmp/fkae-or-satire/training\n",
            "/tmp/fkae-or-satire/testing\n",
            "/tmp/fkae-or-satire/training/fake\n",
            "/tmp/fkae-or-satire/training/satire\n",
            "/tmp/fkae-or-satire/testing/fake\n",
            "/tmp/fkae-or-satire/testing/satire\n"
          ]
        }
      ],
      "source": [
        "# Testing create_train_test_dirs function\n",
        "\n",
        "for rootdir, dirs, files in os.walk(root_dir):\n",
        "    for subdir in dirs:\n",
        "        print(os.path.join(rootdir, subdir))"
      ]
    },
    {
      "cell_type": "markdown",
      "metadata": {
        "id": "V6Cd2k95o7ia"
      },
      "source": [
        "Random split and clean the text before copy "
      ]
    },
    {
      "cell_type": "code",
      "execution_count": 9,
      "metadata": {
        "id": "w_Is8CcJDDZK"
      },
      "outputs": [],
      "source": [
        "def remove_urls(text):\n",
        "    # Use a regular expression to match URLs\n",
        "    url_pattern = r'https?:\\/\\/(www\\.)?[-a-zA-Z0-9@:%._\\+~#=]{1,256}\\.[a-zA-Z0-9()]{1,6}\\b([-a-zA-Z0-9()@:%_\\+.~#?&//=]*)'\n",
        "    return re.sub(url_pattern, '', text)"
      ]
    },
    {
      "cell_type": "markdown",
      "metadata": {},
      "source": [
        "clean_text(text) - remove urls, remove stopwords"
      ]
    },
    {
      "cell_type": "code",
      "execution_count": null,
      "metadata": {},
      "outputs": [],
      "source": [
        "# Define a function to handle text data cleaning\n",
        "def clean_text(text):\n",
        "    url_pattern = r'(http|https):\\/\\/(www\\.)?[-a-zA-Z0-9@:%._\\+~#=]{1,256}\\.[a-zA-Z0-9()]{1,6}\\b([-a-zA-Z0-9()@:%_\\+.~#?&//=]*)'\n",
        "    text_filtered = re.sub(url_pattern, '', text)\n",
        "\n",
        "    text_filtered = \"\".join([word.lower() for word in text_filtered if word not in string.punctuation])\n",
        "    tokens = re.split('\\W+', text_filtered)\n",
        "    text_filtered = (\" \").join([word for word in tokens if word not in stopwords])\n",
        "\n",
        "    # Use a regular expression to match URLs\n",
        "    return text_filtered\n"
      ]
    },
    {
      "cell_type": "code",
      "execution_count": 10,
      "metadata": {
        "id": "S_mKV16foM5T"
      },
      "outputs": [],
      "source": [
        "from sklearn.model_selection import train_test_split\n",
        "\n",
        "#  Split_data\n",
        "def split_data(SOURCE, TRAINING, TESTING, SPLIT_SIZE):\n",
        "  if(SPLIT_SIZE % 1 == 0):\n",
        "    SPLIT_SIZE = 0.25\n",
        "  news = os.listdir(SOURCE)\n",
        "  news_test , news_train =  train_test_split(news, test_size = SPLIT_SIZE, shuffle  = True) \n",
        "\n",
        "  for text in news_train:\n",
        "    if(os.path.getsize(os.path.join(SOURCE,text)) == 0):\n",
        "      print(text,\" is zero length, so ignoring.\")\n",
        "    else:\n",
        "        with open(os.path.join(SOURCE, text), 'r', encoding='ascii',errors='ignore') as f:\n",
        "            contents = f.read()\n",
        "            cleaned_text = clean_text(contents)\n",
        "        with open(os.path.join(TRAINING,text), 'w') as f:\n",
        "            # Write the cleaned text to the file\n",
        "            f.write(cleaned_text)\n",
        "\n",
        "  for text in news_test:\n",
        "    if(os.path.getsize(os.path.join(SOURCE,text)) == 0):\n",
        "      print(text, \" is zero length, so ignoring.\")\n",
        "    else:\n",
        "        with open(os.path.join(SOURCE, text), 'r', encoding='ascii',errors='ignore') as f:\n",
        "            contents = f.read()\n",
        "            cleaned_text = clean_text(contents)\n",
        "        with open(os.path.join(TESTING,text), 'w') as f:\n",
        "            # Write the cleaned text to the file\n",
        "            f.write(cleaned_text)\n",
        "\n",
        "  pass\n",
        "\n"
      ]
    },
    {
      "cell_type": "code",
      "execution_count": 12,
      "metadata": {
        "colab": {
          "base_uri": "https://localhost:8080/"
        },
        "id": "MvWZIB3wpTNM",
        "outputId": "45610e82-b14a-4903-8746-d4a82243a051"
      },
      "outputs": [
        {
          "name": "stdout",
          "output_type": "stream",
          "text": [
            "\n",
            "\n",
            "There are 199 texts of fake for training\n",
            "There are 143 texts of satire for training\n",
            "There are 85 texts of cats fake testing\n",
            "There are 61 texts of satire for testing\n"
          ]
        }
      ],
      "source": [
        "# Test split_data function\n",
        "\n",
        "# Define paths\n",
        "FAKE_SOURCE_DIR = os.path.join(source_path, 'Fake/finalFake')\n",
        "SATIRE_SOURCE_DIR = os.path.join(source_path, 'Satire/finalSatire')\n",
        "\n",
        "TRAINING_DIR = \"/tmp/fkae-or-satire/training/\"\n",
        "TESTING_DIR = \"/tmp/fkae-or-satire/testing/\"\n",
        "\n",
        "TRAINING_FAKE_DIR = os.path.join(TRAINING_DIR, \"fake/\")\n",
        "TESTING_FAKE_DIR = os.path.join(TESTING_DIR, \"fake/\")\n",
        "\n",
        "TRAINING_SATIRE_DIR = os.path.join(TRAINING_DIR, \"satire/\")\n",
        "TESTING_SATIRE_DIR = os.path.join(TESTING_DIR, \"satire/\")\n",
        "\n",
        "# Empty directories in case you run this cell multiple times\n",
        "if len(os.listdir(TRAINING_FAKE_DIR)) > 0:\n",
        "  for file in os.scandir(TRAINING_FAKE_DIR):\n",
        "    os.remove(file.path)\n",
        "if len(os.listdir(TRAINING_SATIRE_DIR)) > 0:\n",
        "  for file in os.scandir(TRAINING_SATIRE_DIR):\n",
        "    os.remove(file.path)\n",
        "if len(os.listdir(TESTING_FAKE_DIR)) > 0:\n",
        "  for file in os.scandir(TESTING_FAKE_DIR):\n",
        "    os.remove(file.path)\n",
        "if len(os.listdir(TESTING_SATIRE_DIR)) > 0:\n",
        "  for file in os.scandir(TESTING_SATIRE_DIR):\n",
        "    os.remove(file.path)\n",
        "\n",
        "# Define proportion of texts used for training\n",
        "split_size = .7\n",
        "\n",
        "# Run the function\n",
        "# NOTE: Messages about zero length images should be printed out\n",
        "split_data(FAKE_SOURCE_DIR, TRAINING_FAKE_DIR, TESTING_FAKE_DIR, split_size)\n",
        "split_data(SATIRE_SOURCE_DIR, TRAINING_SATIRE_DIR, TESTING_SATIRE_DIR, split_size)\n",
        "\n",
        "# Check that the number of images matches the expected output\n",
        "print(f\"\\n\\nThere are {len(os.listdir(TRAINING_FAKE_DIR))} texts of fake for training\")\n",
        "print(f\"There are {len(os.listdir(TRAINING_SATIRE_DIR))} texts of satire for training\")\n",
        "print(f\"There are {len(os.listdir(TESTING_FAKE_DIR))} texts of cats fake testing\")\n",
        "print(f\"There are {len(os.listdir(TESTING_SATIRE_DIR))} texts of satire for testing\")"
      ]
    },
    {
      "cell_type": "code",
      "execution_count": 13,
      "metadata": {
        "colab": {
          "base_uri": "https://localhost:8080/"
        },
        "id": "laGxLXzqJ9mp",
        "outputId": "2169ca71-bac8-4a09-e150-98d659acba49"
      },
      "outputs": [
        {
          "name": "stdout",
          "output_type": "stream",
          "text": [
            "Found 341 files belonging to 2 classes.\n",
            "Using 273 files for training.\n",
            "Found 341 files belonging to 2 classes.\n",
            "Using 68 files for validation.\n",
            "Found 145 files belonging to 2 classes.\n"
          ]
        }
      ],
      "source": [
        "AUTOTUNE = tf.data.AUTOTUNE\n",
        "batch_size = 16\n",
        "seed = 42\n",
        "\n",
        "raw_train_ds = tf.keras.utils.text_dataset_from_directory(\n",
        "    TRAINING_DIR,\n",
        "    batch_size=batch_size,\n",
        "    validation_split=0.2,\n",
        "    subset='training',\n",
        "    seed=seed)\n",
        "\n",
        "class_names = raw_train_ds.class_names\n",
        "train_ds = raw_train_ds.cache().prefetch(buffer_size=AUTOTUNE)\n",
        "\n",
        "val_ds = tf.keras.utils.text_dataset_from_directory(\n",
        "    TRAINING_DIR,\n",
        "    batch_size=batch_size,\n",
        "    validation_split=0.2,\n",
        "    subset='validation',\n",
        "    seed=seed)\n",
        "\n",
        "val_ds = val_ds.cache().prefetch(buffer_size=AUTOTUNE)\n",
        "\n",
        "test_ds = tf.keras.utils.text_dataset_from_directory(\n",
        "    TESTING_DIR,\n",
        "    batch_size=batch_size)\n",
        "\n",
        "test_ds = test_ds.cache().prefetch(buffer_size=AUTOTUNE)"
      ]
    },
    {
      "cell_type": "markdown",
      "metadata": {
        "id": "ScBO2U-AMQkb"
      },
      "source": [
        "## **Some news examples**"
      ]
    },
    {
      "cell_type": "code",
      "execution_count": 14,
      "metadata": {
        "colab": {
          "base_uri": "https://localhost:8080/"
        },
        "id": "OD-Y-mcGMHeq",
        "outputId": "5a30e6f4-c768-4a19-8b4a-07982de9b658"
      },
      "outputs": [
        {
          "name": "stdout",
          "output_type": "stream",
          "text": [
            "Review: b'npr 25 million votes clinton completely fake lost popular vote study published npr reveals 25 million hillary clinton votes completely fraudulent meaning democratic candidate actually lost popular vote huge margin study pew center claiming 800000 noncitizens voted hillary clinton failed take account dead fraudulent voters totalled 25 million registered voters according reports illegal aliens combined dead voters multiple state voters explains hillary appeared popular vote trump years presidential race report pew center states finds 18 million dead people currently registered vote 24 million registrations either invalid inaccurate npr reported 2012 ironic given npr heavily controlled democrats many dead registered voters somehow keep voting democrat beyond grave recently philadelphia penn colorado also worth noting us population increased since 2012 meaning theres likely dead invalid voters pew study found almost 3 million people registered vote one state npr added thats new resident registers vote state officials usually never bother tell former state change voter residency catch release immigration program obama administration illegal aliens routinely given bus tickets travel states immigration officials theoretically possible noncitizens register vote border country illegally register vote another state taxpayerfunded bus dropped clinton 163 populous counties us account half total votes election including dense urban areas new york california yet popular vote 28 million votes reveals lack enthusiasm voters comparison trump democrats would depended illegal votes portion 24 million invalid voter registrations combined portion 18 million dead voters 800000 known illegal voters could explain difference 28 million votes worth noting 800000 figure could low conservative estimate said popular vote victory meaningless president elected popular vote trump clinton would campaigned entirely different states densely population regions us would decide would become president without electoral college united states america would reduced united states new york california 48 vassal states yet notice clinton campaigned less populated states knew popular vote meaningless ahead election however popular vote useful barometer voter fraud since populous countries also susceptible election tampering illegal invalid dead voters '\n",
            "Label : 0 (fake)\n",
            "Review: b'obama resign january 1st amid new benghazi revelations according several seniorranking white house officials president barack obama resign office january 1st 2015 learning socalled smoking gun story regarding benghazi scandal soon revealed sources claim obama announce resignation shortly midterm elections november decision resign came reporters fox news allegedly contacted august survivor 2012 benghazi terrorist attack came forward shocking video evidence obama white house chief staff jacob lew secretary state hillary clinton knew attack us diplomatic facility benghazi libya imminent intentionally ordered key security personnel leave facility travel eight blocks away sources fox news say unidentified survivor allegedly recorded video teleconference cell phone lew gave orders obama clinton watched dont want guy like mitt romney deciding budget lew supposedly states video fox news yet released need win thing means need make sacrifices let clear one harmed sacrificing buckets paint thats need little nudge polls sources fox say network prepared air video august 23rd house oversight chairman darrell issa rca convinced hold releasing footage white house sources say two unidentified reporters fox news joined issa private meeting obama past weekend august 30th agreed reveal video obama agreed resign white house senior staff negotiated issa reporters obama could stay office end year would announce resignation november shortly midterms agreed terms unclear obamas resignation highly sought conservatives tea party figures since well actually took office january 2009 benghazi scandal continues ignite fiery debate across united states despite full lack evidence wrongdoing behalf obama administration august learned republicanled house intelligence committee cleared obama team wrongdoing benghazi scandal story proves true obama resign noon january 1st 2015 vice president joe biden sworn office unclear next vice president incumbent white house chief staff denis mcdonough strongly favored role bidens office reportedly scheduled emergency meetings nancy pelosi tim kaine elizabeth warren maryland governor martin omalley tuesday wednesday speculate meetings might related future vp decision though sources could confirm rumor'\n",
            "Label : 0 (fake)\n",
            "Review: b'trump disgusted french copied tower paris las vegas hotel paris dpo scandal takes hold donald trumps trip france visit capital president united states became enraged french shamelessly copied tower famous paris las vegas hotel nevada usa president trump explained fighting back nations simply appropriating symbols american culture way president already taken aback learned french capital also called paris like famous hotel las vegas stage could still coincidence opined trump pretty popular name paris hiltons called paris however observed distinctive shape tower brazen conterfeit could mistaken know cheap copy see one us president reported told french president emmanuel macron fury practically exact copy paris las vegas tower know thing two hotels casinos angered trump accept objections host emmanuel macron either audacity claim completely way around greatest country world would need copy anyone else fact half world business copying american landmarks hear several buildings egypt poorquality copies famous luxor casino las vegas china even several whole cities look like chinatown new york president trump explained would work ensure impudent counterfeiters either demolish replicas pay royalties usa otherwise fears french may also one day build copy statue liberty'\n",
            "Label : 1 (satire)\n",
            "Review: b'president trump fires 14 muslim federal judges barack obama managed pack federal judiciary bleeding heart liberals professional lobbyists climate change sciencefiction scams 15 moslems none born country president trump choice fire one last month ruled sharia law ok defendant moslem reasonably expected follow faith face eternity hell force christian pay birth control indigents gutter rats cant ask moslem beat wife sounds right today president trump quietly ended tenure moslem 14 named little group allah worshippers executive order eliminating benches altogether white house propaganda director emmanuel goldstein told fox news president trump doesnt authority remove federal judge appointed confirmed senate authority determine number benches judiciary per evacuation clause reduced number today 14 brilliant thats voted president trump well vote hes waaaaaaay smarter well keep updated fate moslems'\n",
            "Label : 1 (satire)\n"
          ]
        }
      ],
      "source": [
        "for text_batch, label_batch in train_ds.take(1):\n",
        "  for i in range(4):\n",
        "    print(f'Review: {text_batch.numpy()[i]}')\n",
        "    label = label_batch.numpy()[i]\n",
        "    print(f'Label : {label} ({class_names[label]})')"
      ]
    },
    {
      "cell_type": "code",
      "execution_count": 15,
      "metadata": {
        "cellView": "form",
        "colab": {
          "base_uri": "https://localhost:8080/"
        },
        "id": "y8_ctG55-uTX",
        "outputId": "5bf25693-a515-469b-e3c0-4d90f02b12bb"
      },
      "outputs": [
        {
          "name": "stdout",
          "output_type": "stream",
          "text": [
            "BERT model selected           : https://tfhub.dev/tensorflow/small_bert/bert_en_uncased_L-2_H-512_A-8/1\n",
            "Preprocess model auto-selected: https://tfhub.dev/tensorflow/bert_en_uncased_preprocess/3\n"
          ]
        }
      ],
      "source": [
        "#@title Choose a BERT model to fine-tune\n",
        "\n",
        "bert_model_name = 'small_bert/bert_en_uncased_L-2_H-512_A-8'  #@param [\"bert_en_uncased_L-12_H-768_A-12\", \"bert_en_cased_L-12_H-768_A-12\", \"bert_multi_cased_L-12_H-768_A-12\", \"small_bert/bert_en_uncased_L-2_H-128_A-2\", \"small_bert/bert_en_uncased_L-2_H-256_A-4\", \"small_bert/bert_en_uncased_L-2_H-512_A-8\", \"small_bert/bert_en_uncased_L-2_H-768_A-12\", \"small_bert/bert_en_uncased_L-4_H-128_A-2\", \"small_bert/bert_en_uncased_L-4_H-256_A-4\", \"small_bert/bert_en_uncased_L-4_H-512_A-8\", \"small_bert/bert_en_uncased_L-4_H-768_A-12\", \"small_bert/bert_en_uncased_L-6_H-128_A-2\", \"small_bert/bert_en_uncased_L-6_H-256_A-4\", \"small_bert/bert_en_uncased_L-6_H-512_A-8\", \"small_bert/bert_en_uncased_L-6_H-768_A-12\", \"small_bert/bert_en_uncased_L-8_H-128_A-2\", \"small_bert/bert_en_uncased_L-8_H-256_A-4\", \"small_bert/bert_en_uncased_L-8_H-512_A-8\", \"small_bert/bert_en_uncased_L-8_H-768_A-12\", \"small_bert/bert_en_uncased_L-10_H-128_A-2\", \"small_bert/bert_en_uncased_L-10_H-256_A-4\", \"small_bert/bert_en_uncased_L-10_H-512_A-8\", \"small_bert/bert_en_uncased_L-10_H-768_A-12\", \"small_bert/bert_en_uncased_L-12_H-128_A-2\", \"small_bert/bert_en_uncased_L-12_H-256_A-4\", \"small_bert/bert_en_uncased_L-12_H-512_A-8\", \"small_bert/bert_en_uncased_L-12_H-768_A-12\", \"albert_en_base\", \"electra_small\", \"electra_base\", \"experts_pubmed\", \"experts_wiki_books\", \"talking-heads_base\"]\n",
        "\n",
        "map_name_to_handle = {\n",
        "    'bert_en_uncased_L-12_H-768_A-12':\n",
        "        'https://tfhub.dev/tensorflow/bert_en_uncased_L-12_H-768_A-12/3',\n",
        "    'bert_en_cased_L-12_H-768_A-12':\n",
        "        'https://tfhub.dev/tensorflow/bert_en_cased_L-12_H-768_A-12/3',\n",
        "    'bert_multi_cased_L-12_H-768_A-12':\n",
        "        'https://tfhub.dev/tensorflow/bert_multi_cased_L-12_H-768_A-12/3',\n",
        "    'small_bert/bert_en_uncased_L-2_H-128_A-2':\n",
        "        'https://tfhub.dev/tensorflow/small_bert/bert_en_uncased_L-2_H-128_A-2/1',\n",
        "    'small_bert/bert_en_uncased_L-2_H-256_A-4':\n",
        "        'https://tfhub.dev/tensorflow/small_bert/bert_en_uncased_L-2_H-256_A-4/1',\n",
        "    'small_bert/bert_en_uncased_L-2_H-512_A-8':\n",
        "        'https://tfhub.dev/tensorflow/small_bert/bert_en_uncased_L-2_H-512_A-8/1',\n",
        "    'small_bert/bert_en_uncased_L-2_H-768_A-12':\n",
        "        'https://tfhub.dev/tensorflow/small_bert/bert_en_uncased_L-2_H-768_A-12/1',\n",
        "    'small_bert/bert_en_uncased_L-4_H-128_A-2':\n",
        "        'https://tfhub.dev/tensorflow/small_bert/bert_en_uncased_L-4_H-128_A-2/1',\n",
        "    'small_bert/bert_en_uncased_L-4_H-256_A-4':\n",
        "        'https://tfhub.dev/tensorflow/small_bert/bert_en_uncased_L-4_H-256_A-4/1',\n",
        "    'small_bert/bert_en_uncased_L-4_H-512_A-8':\n",
        "        'https://tfhub.dev/tensorflow/small_bert/bert_en_uncased_L-4_H-512_A-8/1',\n",
        "    'small_bert/bert_en_uncased_L-4_H-768_A-12':\n",
        "        'https://tfhub.dev/tensorflow/small_bert/bert_en_uncased_L-4_H-768_A-12/1',\n",
        "    'small_bert/bert_en_uncased_L-6_H-128_A-2':\n",
        "        'https://tfhub.dev/tensorflow/small_bert/bert_en_uncased_L-6_H-128_A-2/1',\n",
        "    'small_bert/bert_en_uncased_L-6_H-256_A-4':\n",
        "        'https://tfhub.dev/tensorflow/small_bert/bert_en_uncased_L-6_H-256_A-4/1',\n",
        "    'small_bert/bert_en_uncased_L-6_H-512_A-8':\n",
        "        'https://tfhub.dev/tensorflow/small_bert/bert_en_uncased_L-6_H-512_A-8/1',\n",
        "    'small_bert/bert_en_uncased_L-6_H-768_A-12':\n",
        "        'https://tfhub.dev/tensorflow/small_bert/bert_en_uncased_L-6_H-768_A-12/1',\n",
        "    'small_bert/bert_en_uncased_L-8_H-128_A-2':\n",
        "        'https://tfhub.dev/tensorflow/small_bert/bert_en_uncased_L-8_H-128_A-2/1',\n",
        "    'small_bert/bert_en_uncased_L-8_H-256_A-4':\n",
        "        'https://tfhub.dev/tensorflow/small_bert/bert_en_uncased_L-8_H-256_A-4/1',\n",
        "    'small_bert/bert_en_uncased_L-8_H-512_A-8':\n",
        "        'https://tfhub.dev/tensorflow/small_bert/bert_en_uncased_L-8_H-512_A-8/1',\n",
        "    'small_bert/bert_en_uncased_L-8_H-768_A-12':\n",
        "        'https://tfhub.dev/tensorflow/small_bert/bert_en_uncased_L-8_H-768_A-12/1',\n",
        "    'small_bert/bert_en_uncased_L-10_H-128_A-2':\n",
        "        'https://tfhub.dev/tensorflow/small_bert/bert_en_uncased_L-10_H-128_A-2/1',\n",
        "    'small_bert/bert_en_uncased_L-10_H-256_A-4':\n",
        "        'https://tfhub.dev/tensorflow/small_bert/bert_en_uncased_L-10_H-256_A-4/1',\n",
        "    'small_bert/bert_en_uncased_L-10_H-512_A-8':\n",
        "        'https://tfhub.dev/tensorflow/small_bert/bert_en_uncased_L-10_H-512_A-8/1',\n",
        "    'small_bert/bert_en_uncased_L-10_H-768_A-12':\n",
        "        'https://tfhub.dev/tensorflow/small_bert/bert_en_uncased_L-10_H-768_A-12/1',\n",
        "    'small_bert/bert_en_uncased_L-12_H-128_A-2':\n",
        "        'https://tfhub.dev/tensorflow/small_bert/bert_en_uncased_L-12_H-128_A-2/1',\n",
        "    'small_bert/bert_en_uncased_L-12_H-256_A-4':\n",
        "        'https://tfhub.dev/tensorflow/small_bert/bert_en_uncased_L-12_H-256_A-4/1',\n",
        "    'small_bert/bert_en_uncased_L-12_H-512_A-8':\n",
        "        'https://tfhub.dev/tensorflow/small_bert/bert_en_uncased_L-12_H-512_A-8/1',\n",
        "    'small_bert/bert_en_uncased_L-12_H-768_A-12':\n",
        "        'https://tfhub.dev/tensorflow/small_bert/bert_en_uncased_L-12_H-768_A-12/1',\n",
        "    'albert_en_base':\n",
        "        'https://tfhub.dev/tensorflow/albert_en_base/2',\n",
        "    'electra_small':\n",
        "        'https://tfhub.dev/google/electra_small/2',\n",
        "    'electra_base':\n",
        "        'https://tfhub.dev/google/electra_base/2',\n",
        "    'experts_pubmed':\n",
        "        'https://tfhub.dev/google/experts/bert/pubmed/2',\n",
        "    'experts_wiki_books':\n",
        "        'https://tfhub.dev/google/experts/bert/wiki_books/2',\n",
        "    'talking-heads_base':\n",
        "        'https://tfhub.dev/tensorflow/talkheads_ggelu_bert_en_base/1',\n",
        "}\n",
        "\n",
        "map_model_to_preprocess = {\n",
        "    'bert_en_uncased_L-12_H-768_A-12':\n",
        "        'https://tfhub.dev/tensorflow/bert_en_uncased_preprocess/3',\n",
        "    'bert_en_cased_L-12_H-768_A-12':\n",
        "        'https://tfhub.dev/tensorflow/bert_en_cased_preprocess/3',\n",
        "    'small_bert/bert_en_uncased_L-2_H-128_A-2':\n",
        "        'https://tfhub.dev/tensorflow/bert_en_uncased_preprocess/3',\n",
        "    'small_bert/bert_en_uncased_L-2_H-256_A-4':\n",
        "        'https://tfhub.dev/tensorflow/bert_en_uncased_preprocess/3',\n",
        "    'small_bert/bert_en_uncased_L-2_H-512_A-8':\n",
        "        'https://tfhub.dev/tensorflow/bert_en_uncased_preprocess/3',\n",
        "    'small_bert/bert_en_uncased_L-2_H-768_A-12':\n",
        "        'https://tfhub.dev/tensorflow/bert_en_uncased_preprocess/3',\n",
        "    'small_bert/bert_en_uncased_L-4_H-128_A-2':\n",
        "        'https://tfhub.dev/tensorflow/bert_en_uncased_preprocess/3',\n",
        "    'small_bert/bert_en_uncased_L-4_H-256_A-4':\n",
        "        'https://tfhub.dev/tensorflow/bert_en_uncased_preprocess/3',\n",
        "    'small_bert/bert_en_uncased_L-4_H-512_A-8':\n",
        "        'https://tfhub.dev/tensorflow/bert_en_uncased_preprocess/3',\n",
        "    'small_bert/bert_en_uncased_L-4_H-768_A-12':\n",
        "        'https://tfhub.dev/tensorflow/bert_en_uncased_preprocess/3',\n",
        "    'small_bert/bert_en_uncased_L-6_H-128_A-2':\n",
        "        'https://tfhub.dev/tensorflow/bert_en_uncased_preprocess/3',\n",
        "    'small_bert/bert_en_uncased_L-6_H-256_A-4':\n",
        "        'https://tfhub.dev/tensorflow/bert_en_uncased_preprocess/3',\n",
        "    'small_bert/bert_en_uncased_L-6_H-512_A-8':\n",
        "        'https://tfhub.dev/tensorflow/bert_en_uncased_preprocess/3',\n",
        "    'small_bert/bert_en_uncased_L-6_H-768_A-12':\n",
        "        'https://tfhub.dev/tensorflow/bert_en_uncased_preprocess/3',\n",
        "    'small_bert/bert_en_uncased_L-8_H-128_A-2':\n",
        "        'https://tfhub.dev/tensorflow/bert_en_uncased_preprocess/3',\n",
        "    'small_bert/bert_en_uncased_L-8_H-256_A-4':\n",
        "        'https://tfhub.dev/tensorflow/bert_en_uncased_preprocess/3',\n",
        "    'small_bert/bert_en_uncased_L-8_H-512_A-8':\n",
        "        'https://tfhub.dev/tensorflow/bert_en_uncased_preprocess/3',\n",
        "    'small_bert/bert_en_uncased_L-8_H-768_A-12':\n",
        "        'https://tfhub.dev/tensorflow/bert_en_uncased_preprocess/3',\n",
        "    'small_bert/bert_en_uncased_L-10_H-128_A-2':\n",
        "        'https://tfhub.dev/tensorflow/bert_en_uncased_preprocess/3',\n",
        "    'small_bert/bert_en_uncased_L-10_H-256_A-4':\n",
        "        'https://tfhub.dev/tensorflow/bert_en_uncased_preprocess/3',\n",
        "    'small_bert/bert_en_uncased_L-10_H-512_A-8':\n",
        "        'https://tfhub.dev/tensorflow/bert_en_uncased_preprocess/3',\n",
        "    'small_bert/bert_en_uncased_L-10_H-768_A-12':\n",
        "        'https://tfhub.dev/tensorflow/bert_en_uncased_preprocess/3',\n",
        "    'small_bert/bert_en_uncased_L-12_H-128_A-2':\n",
        "        'https://tfhub.dev/tensorflow/bert_en_uncased_preprocess/3',\n",
        "    'small_bert/bert_en_uncased_L-12_H-256_A-4':\n",
        "        'https://tfhub.dev/tensorflow/bert_en_uncased_preprocess/3',\n",
        "    'small_bert/bert_en_uncased_L-12_H-512_A-8':\n",
        "        'https://tfhub.dev/tensorflow/bert_en_uncased_preprocess/3',\n",
        "    'small_bert/bert_en_uncased_L-12_H-768_A-12':\n",
        "        'https://tfhub.dev/tensorflow/bert_en_uncased_preprocess/3',\n",
        "    'bert_multi_cased_L-12_H-768_A-12':\n",
        "        'https://tfhub.dev/tensorflow/bert_multi_cased_preprocess/3',\n",
        "    'albert_en_base':\n",
        "        'https://tfhub.dev/tensorflow/albert_en_preprocess/3',\n",
        "    'electra_small':\n",
        "        'https://tfhub.dev/tensorflow/bert_en_uncased_preprocess/3',\n",
        "    'electra_base':\n",
        "        'https://tfhub.dev/tensorflow/bert_en_uncased_preprocess/3',\n",
        "    'experts_pubmed':\n",
        "        'https://tfhub.dev/tensorflow/bert_en_uncased_preprocess/3',\n",
        "    'experts_wiki_books':\n",
        "        'https://tfhub.dev/tensorflow/bert_en_uncased_preprocess/3',\n",
        "    'talking-heads_base':\n",
        "        'https://tfhub.dev/tensorflow/bert_en_uncased_preprocess/3',\n",
        "}\n",
        "\n",
        "tfhub_handle_encoder = map_name_to_handle[bert_model_name]\n",
        "tfhub_handle_preprocess = map_model_to_preprocess[bert_model_name]\n",
        "\n",
        "print(f'BERT model selected           : {tfhub_handle_encoder}')\n",
        "print(f'Preprocess model auto-selected: {tfhub_handle_preprocess}')"
      ]
    },
    {
      "cell_type": "code",
      "execution_count": 16,
      "metadata": {
        "colab": {
          "base_uri": "https://localhost:8080/"
        },
        "id": "W1O6-45wdYrO",
        "outputId": "bce1a181-a7e0-403b-b0ec-798b70923132"
      },
      "outputs": [
        {
          "name": "stdout",
          "output_type": "stream",
          "text": [
            "\u001b[K     |████████████████████████████████| 4.6 MB 11.0 MB/s \n",
            "\u001b[K     |████████████████████████████████| 511.8 MB 27 kB/s \n",
            "\u001b[K     |████████████████████████████████| 438 kB 72.0 MB/s \n",
            "\u001b[K     |████████████████████████████████| 5.8 MB 64.5 MB/s \n",
            "\u001b[K     |████████████████████████████████| 1.6 MB 57.8 MB/s \n",
            "\u001b[?25h"
          ]
        }
      ],
      "source": [
        "# A dependency of the preprocessing for BERT inputs\n",
        "!pip install -q -U \"tensorflow-text==2.9.*\""
      ]
    },
    {
      "cell_type": "code",
      "execution_count": 17,
      "metadata": {
        "id": "XO54dLOaUBNv"
      },
      "outputs": [],
      "source": [
        "import tensorflow_text\n",
        "\n",
        "bert_preprocess_model = hub.KerasLayer(tfhub_handle_preprocess)\n",
        "bert_model = hub.KerasLayer(tfhub_handle_encoder)"
      ]
    },
    {
      "cell_type": "code",
      "execution_count": 18,
      "metadata": {
        "id": "_EtxkY4DqeFW"
      },
      "outputs": [],
      "source": [
        "def build_classifier_model():\n",
        "  text_input = tf.keras.layers.Input(shape=(), dtype=tf.string, name='text')\n",
        "  preprocessing_layer = hub.KerasLayer(tfhub_handle_preprocess, name='preprocessing')\n",
        "  encoder_inputs = preprocessing_layer(text_input)\n",
        "  encoder = hub.KerasLayer(tfhub_handle_encoder, trainable=True, name='BERT_encoder')\n",
        "  outputs = encoder(encoder_inputs)\n",
        "  net = outputs['pooled_output']\n",
        "  net = tf.keras.layers.Dropout(0.3)(net)\n",
        "  net = tf.keras.layers.Dense(128)(net)\n",
        "  net = tf.keras.layers.Dropout(0.2)(net)\n",
        "  net = tf.keras.layers.Dense(16)(net)\n",
        "  net = tf.keras.layers.Dense(1, activation=None, name='classifier')(net)\n",
        "  return tf.keras.Model(text_input, net)"
      ]
    },
    {
      "cell_type": "code",
      "execution_count": 19,
      "metadata": {
        "id": "dUudyjR0wqQd"
      },
      "outputs": [],
      "source": [
        "loss = tf.keras.losses.BinaryCrossentropy(from_logits=True)\n",
        "metrics = tf.metrics.BinaryAccuracy()"
      ]
    },
    {
      "cell_type": "code",
      "execution_count": 20,
      "metadata": {
        "colab": {
          "base_uri": "https://localhost:8080/"
        },
        "id": "l6dzFzuNrlal",
        "outputId": "790dd37f-6e38-4643-a401-f049c8648f13"
      },
      "outputs": [
        {
          "name": "stdout",
          "output_type": "stream",
          "text": [
            "tf.Tensor([[0.26133057]], shape=(1, 1), dtype=float32)\n"
          ]
        }
      ],
      "source": [
        "classifier_model = build_classifier_model()\n",
        "bert_raw_result = classifier_model(tf.constant(['text_test']))\n",
        "print(tf.sigmoid(bert_raw_result))"
      ]
    },
    {
      "cell_type": "code",
      "execution_count": 21,
      "metadata": {
        "id": "djMr2QElsEQ4"
      },
      "outputs": [],
      "source": [
        "loss = tf.keras.losses.BinaryCrossentropy(from_logits=True)\n",
        "metrics = tf.metrics.BinaryAccuracy()\n",
        "\n",
        "epochs = 5\n",
        "steps_per_epoch = tf.data.experimental.cardinality(train_ds).numpy()\n",
        "num_train_steps = steps_per_epoch * epochs\n",
        "num_warmup_steps = int(0.1*num_train_steps)\n",
        "\n",
        "init_lr = 3e-5\n",
        "optimizer = optimization.create_optimizer(init_lr=init_lr,\n",
        "                                          num_train_steps=num_train_steps,\n",
        "                                          num_warmup_steps=num_warmup_steps,\n",
        "                                          optimizer_type='adamw')\n",
        "\n",
        "classifier_model.compile(optimizer=optimizer,\n",
        "                         loss=loss,\n",
        "                         metrics=metrics)\n",
        "\n"
      ]
    },
    {
      "cell_type": "code",
      "execution_count": 22,
      "metadata": {
        "colab": {
          "base_uri": "https://localhost:8080/"
        },
        "id": "v-wtRF6YsWU4",
        "outputId": "c7cd7265-e151-469c-cfc9-cca40eda085b"
      },
      "outputs": [
        {
          "name": "stdout",
          "output_type": "stream",
          "text": [
            "Epoch 1/15\n",
            "WARNING: AutoGraph could not transform <function Model.make_train_function.<locals>.train_function at 0x7f0836258c10> and will run it as-is.\n",
            "Please report this to the TensorFlow team. When filing the bug, set the verbosity to 10 (on Linux, `export AUTOGRAPH_VERBOSITY=10`) and attach the full output.\n",
            "Cause: closure mismatch, requested ('self', 'step_function'), but source function had ()\n",
            "To silence this warning, decorate the function with @tf.autograph.experimental.do_not_convert\n",
            "17/18 [===========================>..] - ETA: 0s - loss: 0.8664 - binary_accuracy: 0.5735WARNING: AutoGraph could not transform <function Model.make_test_function.<locals>.test_function at 0x7f0818fb6ca0> and will run it as-is.\n",
            "Please report this to the TensorFlow team. When filing the bug, set the verbosity to 10 (on Linux, `export AUTOGRAPH_VERBOSITY=10`) and attach the full output.\n",
            "Cause: closure mismatch, requested ('self', 'step_function'), but source function had ()\n",
            "To silence this warning, decorate the function with @tf.autograph.experimental.do_not_convert\n",
            "18/18 [==============================] - 13s 294ms/step - loss: 0.8647 - binary_accuracy: 0.5751 - val_loss: 0.7254 - val_binary_accuracy: 0.5000\n",
            "Epoch 2/15\n",
            "18/18 [==============================] - 2s 86ms/step - loss: 0.6987 - binary_accuracy: 0.6447 - val_loss: 0.6742 - val_binary_accuracy: 0.5294\n",
            "Epoch 3/15\n",
            "18/18 [==============================] - 2s 86ms/step - loss: 0.6040 - binary_accuracy: 0.6996 - val_loss: 0.6582 - val_binary_accuracy: 0.5735\n",
            "Epoch 4/15\n",
            "18/18 [==============================] - 2s 87ms/step - loss: 0.5077 - binary_accuracy: 0.7326 - val_loss: 0.6591 - val_binary_accuracy: 0.5882\n",
            "Epoch 5/15\n",
            "18/18 [==============================] - 2s 86ms/step - loss: 0.4998 - binary_accuracy: 0.7473 - val_loss: 0.6637 - val_binary_accuracy: 0.6324\n",
            "Epoch 6/15\n",
            "18/18 [==============================] - 2s 85ms/step - loss: 0.4639 - binary_accuracy: 0.8095 - val_loss: 0.6637 - val_binary_accuracy: 0.6324\n",
            "Epoch 7/15\n",
            "18/18 [==============================] - 2s 86ms/step - loss: 0.4728 - binary_accuracy: 0.7802 - val_loss: 0.6637 - val_binary_accuracy: 0.6324\n",
            "Epoch 8/15\n",
            "18/18 [==============================] - 2s 87ms/step - loss: 0.4795 - binary_accuracy: 0.7802 - val_loss: 0.6637 - val_binary_accuracy: 0.6324\n",
            "Epoch 9/15\n",
            "18/18 [==============================] - 2s 88ms/step - loss: 0.4613 - binary_accuracy: 0.7839 - val_loss: 0.6637 - val_binary_accuracy: 0.6324\n",
            "Epoch 10/15\n",
            "18/18 [==============================] - 2s 87ms/step - loss: 0.4586 - binary_accuracy: 0.7619 - val_loss: 0.6637 - val_binary_accuracy: 0.6324\n",
            "Epoch 11/15\n",
            "18/18 [==============================] - 2s 87ms/step - loss: 0.5285 - binary_accuracy: 0.7363 - val_loss: 0.6637 - val_binary_accuracy: 0.6324\n",
            "Epoch 12/15\n",
            "18/18 [==============================] - 2s 86ms/step - loss: 0.5128 - binary_accuracy: 0.7363 - val_loss: 0.6637 - val_binary_accuracy: 0.6324\n",
            "Epoch 13/15\n",
            "18/18 [==============================] - 2s 89ms/step - loss: 0.5194 - binary_accuracy: 0.7326 - val_loss: 0.6637 - val_binary_accuracy: 0.6324\n",
            "Epoch 14/15\n",
            "18/18 [==============================] - 2s 86ms/step - loss: 0.4745 - binary_accuracy: 0.7729 - val_loss: 0.6637 - val_binary_accuracy: 0.6324\n",
            "Epoch 15/15\n",
            "18/18 [==============================] - 2s 87ms/step - loss: 0.5614 - binary_accuracy: 0.7253 - val_loss: 0.6637 - val_binary_accuracy: 0.6324\n"
          ]
        }
      ],
      "source": [
        "history = classifier_model.fit(x=train_ds,\n",
        "                              epochs=15,\n",
        "                              # batch_size=16,\n",
        "                              validation_data=val_ds)"
      ]
    },
    {
      "cell_type": "code",
      "execution_count": 23,
      "metadata": {
        "colab": {
          "base_uri": "https://localhost:8080/"
        },
        "id": "pwP-czFswSN8",
        "outputId": "7139105e-98db-4548-d0c7-8dac6131705c"
      },
      "outputs": [
        {
          "name": "stdout",
          "output_type": "stream",
          "text": [
            "Model: \"model\"\n",
            "__________________________________________________________________________________________________\n",
            " Layer (type)                   Output Shape         Param #     Connected to                     \n",
            "==================================================================================================\n",
            " text (InputLayer)              [(None,)]            0           []                               \n",
            "                                                                                                  \n",
            " preprocessing (KerasLayer)     {'input_word_ids':   0           ['text[0][0]']                   \n",
            "                                (None, 128),                                                      \n",
            "                                 'input_type_ids':                                                \n",
            "                                (None, 128),                                                      \n",
            "                                 'input_mask': (Non                                               \n",
            "                                e, 128)}                                                          \n",
            "                                                                                                  \n",
            " BERT_encoder (KerasLayer)      {'pooled_output': (  22458881    ['preprocessing[0][0]',          \n",
            "                                None, 512),                       'preprocessing[0][1]',          \n",
            "                                 'encoder_outputs':               'preprocessing[0][2]']          \n",
            "                                 [(None, 128, 512),                                               \n",
            "                                 (None, 128, 512)],                                               \n",
            "                                 'sequence_output':                                               \n",
            "                                 (None, 128, 512),                                                \n",
            "                                 'default': (None,                                                \n",
            "                                512)}                                                             \n",
            "                                                                                                  \n",
            " dropout (Dropout)              (None, 512)          0           ['BERT_encoder[0][3]']           \n",
            "                                                                                                  \n",
            " dense (Dense)                  (None, 128)          65664       ['dropout[0][0]']                \n",
            "                                                                                                  \n",
            " dropout_1 (Dropout)            (None, 128)          0           ['dense[0][0]']                  \n",
            "                                                                                                  \n",
            " dense_1 (Dense)                (None, 16)           2064        ['dropout_1[0][0]']              \n",
            "                                                                                                  \n",
            " classifier (Dense)             (None, 1)            17          ['dense_1[0][0]']                \n",
            "                                                                                                  \n",
            "==================================================================================================\n",
            "Total params: 22,526,626\n",
            "Trainable params: 22,526,625\n",
            "Non-trainable params: 1\n",
            "__________________________________________________________________________________________________\n"
          ]
        }
      ],
      "source": [
        "classifier_model.summary()"
      ]
    },
    {
      "cell_type": "code",
      "execution_count": 24,
      "metadata": {
        "colab": {
          "base_uri": "https://localhost:8080/"
        },
        "id": "_TeCVL7MG0tk",
        "outputId": "c53cf486-b277-4e22-fe22-2d1e3755e699"
      },
      "outputs": [
        {
          "data": {
            "text/plain": [
              "dict_keys(['loss', 'binary_accuracy', 'val_loss', 'val_binary_accuracy'])"
            ]
          },
          "execution_count": 24,
          "metadata": {},
          "output_type": "execute_result"
        }
      ],
      "source": [
        "\n",
        "history_dict = history.history\n",
        "history_dict.keys()\n"
      ]
    },
    {
      "cell_type": "code",
      "execution_count": 25,
      "metadata": {
        "colab": {
          "base_uri": "https://localhost:8080/",
          "height": 295
        },
        "id": "bmF7KyRqGnk_",
        "outputId": "1aa3a29e-4799-4a05-a1b3-d4ac9fc7a63d"
      },
      "outputs": [
        {
          "data": {
            "image/png": "[encoded data removed]",
            "text/plain": [
              "<Figure size 432x288 with 1 Axes>"
            ]
          },
          "metadata": {
            "needs_background": "light"
          },
          "output_type": "display_data"
        }
      ],
      "source": [
        "import matplotlib.pyplot as plt\n",
        "\n",
        "acc = history.history['binary_accuracy']\n",
        "val_acc = history.history['val_binary_accuracy']\n",
        "loss = history.history['loss']\n",
        "val_loss = history.history['val_loss']\n",
        "\n",
        "epochs = range(1, len(acc) + 1)\n",
        "\n",
        "# \"bo\" is for \"blue dot\"\n",
        "plt.plot(epochs, loss, 'bo', label='Training loss')\n",
        "# b is for \"solid blue line\"\n",
        "plt.plot(epochs, val_loss, 'b', label='Validation loss')\n",
        "plt.title('Training and validation loss')\n",
        "plt.xlabel('Epochs')\n",
        "plt.ylabel('Loss')\n",
        "plt.legend()\n",
        "\n",
        "plt.show()"
      ]
    },
    {
      "cell_type": "code",
      "execution_count": 26,
      "metadata": {
        "colab": {
          "base_uri": "https://localhost:8080/",
          "height": 295
        },
        "id": "7h_7ozXeGvJC",
        "outputId": "d0c8ba2a-9cbd-41c7-e9a4-50b543e584a3"
      },
      "outputs": [
        {
          "data": {
            "image/png": "[encoded data removed]",
            "text/plain": [
              "<Figure size 432x288 with 1 Axes>"
            ]
          },
          "metadata": {
            "needs_background": "light"
          },
          "output_type": "display_data"
        }
      ],
      "source": [
        "plt.clf()   # clear figure\n",
        "acc_values = history_dict['binary_accuracy']\n",
        "val_acc_values = history_dict['val_binary_accuracy']\n",
        "\n",
        "plt.plot(epochs, acc, 'bo', label='Training acc')\n",
        "plt.plot(epochs, val_acc, 'b', label='Validation acc')\n",
        "plt.title('Training and validation accuracy')\n",
        "plt.xlabel('Epochs')\n",
        "plt.ylabel('Accuracy')\n",
        "plt.legend()\n",
        "\n",
        "plt.show()"
      ]
    },
    {
      "cell_type": "markdown",
      "metadata": {
        "id": "J_IooiEPlBKi"
      },
      "source": [
        "## Save model"
      ]
    },
    {
      "cell_type": "code",
      "execution_count": 27,
      "metadata": {
        "colab": {
          "base_uri": "https://localhost:8080/"
        },
        "id": "_8qKIqxFlAWq",
        "outputId": "bcab7123-ec63-4151-edb7-7c52286133e3"
      },
      "outputs": [
        {
          "name": "stderr",
          "output_type": "stream",
          "text": [
            "WARNING:absl:Found untraced functions such as restored_function_body, restored_function_body, restored_function_body, restored_function_body, restored_function_body while saving (showing 5 of 64). These functions will not be directly callable after loading.\n"
          ]
        },
        {
          "name": "stdout",
          "output_type": "stream",
          "text": [
            "WARNING: AutoGraph could not transform <function _trace_resource_initializers.<locals>._wrap_obj_initializer.<locals>.<lambda> at 0x7f081989c9d0> and will run it as-is.\n",
            "Cause: could not parse the source code of <function _trace_resource_initializers.<locals>._wrap_obj_initializer.<locals>.<lambda> at 0x7f081989c9d0>: no matching AST found among candidates:\n",
            "# coding=utf-8\n",
            "(lambda : _wrap_initializer(obj))\n",
            "To silence this warning, decorate the function with @tf.autograph.experimental.do_not_convert\n"
          ]
        }
      ],
      "source": [
        "dataset_name = 'FakeNewsData'\n",
        "saved_model_path = './{}_bert'.format(dataset_name.replace('/', '_'))\n",
        "\n",
        "classifier_model.save(saved_model_path, include_optimizer=True)"
      ]
    },
    {
      "cell_type": "code",
      "execution_count": 28,
      "metadata": {
        "id": "FIQFANqylNmn"
      },
      "outputs": [],
      "source": [
        "reloaded_model = tf.saved_model.load(saved_model_path)"
      ]
    },
    {
      "cell_type": "code",
      "execution_count": 29,
      "metadata": {
        "colab": {
          "base_uri": "https://localhost:8080/"
        },
        "id": "Quk4uckml0Fl",
        "outputId": "7023d786-fdc6-4b13-e994-443d6ce92c32"
      },
      "outputs": [
        {
          "name": "stdout",
          "output_type": "stream",
          "text": [
            "./FakeNewsData_bert\n"
          ]
        }
      ],
      "source": [
        "print(saved_model_path)"
      ]
    },
    {
      "cell_type": "code",
      "execution_count": 31,
      "metadata": {
        "colab": {
          "base_uri": "https://localhost:8080/"
        },
        "id": "QKOKeUruvY86",
        "outputId": "4ba7d8d9-b33d-4526-c3aa-1bd99733b976"
      },
      "outputs": [
        {
          "name": "stdout",
          "output_type": "stream",
          "text": [
            "Results from the saved model:\n",
            "input: spicer trump led brexit successfully upperclass eloquent english skills wednesdays press briefing white house press secretary sean spicer gave strange response european commission president jeanclaude junker criticized president donald trumps comprehension world affairs last week junker warned countries may leave european union trumps administration applauded britains departure eu think president well steeped world affairs especially europe nato issues spicer insisted leader effort call brexit know asked comment whether connection president trumps position brexit fact majority britains citizens voted leaving eu spicer argued british smitten billionaire businessmanturnedpresidents language skills decided hear know president trump citizens uk havent really gotten right foot speak think remember one point even petition floating around ban donald trump entering great britain spicer reminded members press however ask british today felt president believe would encounter different responses continued personal opinion belief british people became smitten fact donald trump one point spoke upperclass eloquent english realized okay person make matters even obvious president trump scottish heritage mothers side theres also im well aware fact english scottish dont always see eye eye despite union would seem managed find common ground comes president donald trump asked elaborate trumps rumored eloquent language skills press secretary argued even though trumps language muchdisputed point campaign donald trump known extremely hard worker selfmade billionaire also said thats comes surprise able improve language point became favorite citizens country language first originated put perspective talking england know pretty much nothing left show complicated language rules extremely broad dictionary end day im going say english voted leave eu donald trump said would good idea however would like believe deep listened really heard saying precisely speaking nice language compare situation theyre debating whether theyre going let country think thats equivalent climbing mount everest matter minutes huge undertaking way fact mount everests summit cold british towards americans makes sweeter would imagine spicer concluded : score: 0.634252\n",
            "\n"
          ]
        }
      ],
      "source": [
        "def print_my_examples(inputs, results):\n",
        "  result_for_printing = \\\n",
        "    [f'input: {inputs[i]:<30} : score: {results[i][0]:.6f}'\n",
        "                         for i in range(len(inputs))]\n",
        "  print(*result_for_printing, sep='\\n')\n",
        "  print()\n",
        "\n",
        "\n",
        "examples = [\n",
        "    'spicer trump led brexit successfully upperclass eloquent english skills wednesdays press briefing white house press secretary sean spicer gave strange response european commission president jeanclaude junker criticized president donald trumps comprehension world affairs last week junker warned countries may leave european union trumps administration applauded britains departure eu think president well steeped world affairs especially europe nato issues spicer insisted leader effort call brexit know asked comment whether connection president trumps position brexit fact majority britains citizens voted leaving eu spicer argued british smitten billionaire businessmanturnedpresidents language skills decided hear know president trump citizens uk havent really gotten right foot speak think remember one point even petition floating around ban donald trump entering great britain spicer reminded members press however ask british today felt president believe would encounter different responses continued personal opinion belief british people became smitten fact donald trump one point spoke upperclass eloquent english realized okay person make matters even obvious president trump scottish heritage mothers side theres also im well aware fact english scottish dont always see eye eye despite union would seem managed find common ground comes president donald trump asked elaborate trumps rumored eloquent language skills press secretary argued even though trumps language muchdisputed point campaign donald trump known extremely hard worker selfmade billionaire also said thats comes surprise able improve language point became favorite citizens country language first originated put perspective talking england know pretty much nothing left show complicated language rules extremely broad dictionary end day im going say english voted leave eu donald trump said would good idea however would like believe deep listened really heard saying precisely speaking nice language compare situation theyre debating whether theyre going let country think thats equivalent climbing mount everest matter minutes huge undertaking way fact mount everests summit cold british towards americans makes sweeter would imagine spicer concluded',\n",
        "\n",
        "]\n",
        "\n",
        "reloaded_results = tf.sigmoid(reloaded_model(tf.constant(examples)))\n",
        "original_results = tf.sigmoid(classifier_model(tf.constant(examples)))\n",
        "\n",
        "print('Results from the saved model:')\n",
        "print_my_examples(examples, reloaded_results)"
      ]
    },
    {
      "cell_type": "code",
      "execution_count": 32,
      "metadata": {
        "colab": {
          "base_uri": "https://localhost:8080/"
        },
        "id": "4g2g6qVw2jyi",
        "outputId": "1f316bd4-523e-46f1-fccb-405f1a19de04"
      },
      "outputs": [
        {
          "name": "stdout",
          "output_type": "stream",
          "text": [
            "1\n"
          ]
        }
      ],
      "source": [
        "print(round(float(reloaded_results)))"
      ]
    }
  ],
  "metadata": {
    "accelerator": "GPU",
    "colab": {
      "provenance": []
    },
    "gpuClass": "standard",
    "kernelspec": {
      "display_name": "Python 3",
      "name": "python3"
    },
    "language_info": {
      "name": "python"
    }
  },
  "nbformat": 4,
  "nbformat_minor": 0
}
